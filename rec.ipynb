{
 "cells": [
  {
   "cell_type": "markdown",
   "metadata": {},
   "source": [
    "24th January 2023\n",
    "Learning Recursion\n",
    "5am in the morning."
   ]
  },
  {
   "cell_type": "code",
   "execution_count": 1,
   "metadata": {},
   "outputs": [
    {
     "name": "stdout",
     "output_type": "stream",
     "text": [
      "a() was called.\n",
      "b() was called\n",
      "c() was called.\n",
      "c() is sreturing\n",
      "b() is returning\n",
      "a() is returning.\n"
     ]
    }
   ],
   "source": [
    "def a():\n",
    "    print('a() was called.')\n",
    "    b()\n",
    "    print('a() is returning.')\n",
    "    \n",
    "def b():\n",
    "    print('b() was called')\n",
    "    c()\n",
    "    print('b() is returning')\n",
    "    \n",
    "def c():\n",
    "    print('c() was called.')\n",
    "    print('c() is sreturing')\n",
    "\n",
    "a()"
   ]
  },
  {
   "cell_type": "code",
   "execution_count": 2,
   "metadata": {},
   "outputs": [
    {
     "name": "stdout",
     "output_type": "stream",
     "text": [
      "5 of diamonds\n",
      "5 of diamonds,3 of clubs\n",
      "5 of diamonds,3 of clubs,ace of hearts\n",
      "5 of diamonds,3 of clubs\n"
     ]
    }
   ],
   "source": [
    "cardStack = []\n",
    "cardStack.append('5 of diamonds')\n",
    "print(','.join(cardStack))\n",
    "\n",
    "cardStack.append('3 of clubs')\n",
    "print(','.join(cardStack))\n",
    "\n",
    "cardStack.append('ace of hearts')\n",
    "print(','.join(cardStack))\n",
    "\n",
    "cardStack.pop()\n",
    "print(','.join(cardStack))\n",
    "\n"
   ]
  },
  {
   "attachments": {},
   "cell_type": "markdown",
   "metadata": {},
   "source": [
    "<script>\n",
    "    function shortest()\n",
    "        shortest();\n",
    "       <h1>This is being called</h1>\n",
    "    shortest()\n",
    "</script>"
   ]
  },
  {
   "attachments": {},
   "cell_type": "markdown",
   "metadata": {},
   "source": [
    "Base Case vs Recursive Case\n",
    "<p>The future is here all functions are in the no recursive case.</p>"
   ]
  },
  {
   "cell_type": "code",
   "execution_count": 3,
   "metadata": {},
   "outputs": [
    {
     "name": "stdout",
     "output_type": "stream",
     "text": [
      "Calling shortestWithBaseCase(False):\n",
      "shortesWtihBaseCAse (False) is called: \n",
      "Returning from base case.\n",
      "\n",
      "Calling shortesWithBaseCase(True):\n",
      "shortesWtihBaseCAse (True) is called: \n",
      "shortesWtihBaseCAse (False) is called: \n",
      "Returning from base case.\n",
      "Returning from recursive case.\n"
     ]
    }
   ],
   "source": [
    "def shortesWithBaseCase(makeRecursiveCall):\n",
    "    print('shortesWtihBaseCAse (%s) is called: '%makeRecursiveCall)\n",
    "    if not makeRecursiveCall:\n",
    "        #BASe CAse\n",
    "        print('Returning from base case.')\n",
    "        return\n",
    "    else:\n",
    "        #Recursive Case.\n",
    "        shortesWithBaseCase(False)\n",
    "        print('Returning from recursive case.')\n",
    "        return\n",
    "\n",
    "print('Calling shortestWithBaseCase(False):')\n",
    "shortesWithBaseCase(False)\n",
    "print()\n",
    "print('Calling shortesWithBaseCase(True):')\n",
    "shortesWithBaseCase(True)"
   ]
  },
  {
   "attachments": {},
   "cell_type": "markdown",
   "metadata": {},
   "source": [
    "Code Before , Middle and After Recursive Call\n",
    "<p>This is the begining what if there is a need to call a code in the middle?</p>"
   ]
  },
  {
   "cell_type": "code",
   "execution_count": 5,
   "metadata": {},
   "outputs": [
    {
     "name": "stdout",
     "output_type": "stream",
     "text": [
      "3\n",
      "2\n",
      "1\n",
      "0\n",
      "Reached the base case.\n",
      "1 returning\n",
      "2 returning\n",
      "3 returning\n"
     ]
    }
   ],
   "source": [
    "def countDownAndUp(number):\n",
    "    print(number)\n",
    "    if number == 0:\n",
    "        #BASE CASE\n",
    "        print('Reached the base case.')\n",
    "        return\n",
    "    else:\n",
    "        #RECURSIVE CASE.\n",
    "        countDownAndUp(number - 1)\n",
    "        print(number, 'returning')\n",
    "        \n",
    "        return\n",
    "    \n",
    "countDownAndUp(3)"
   ]
  },
  {
   "attachments": {},
   "cell_type": "markdown",
   "metadata": {},
   "source": [
    "   RECURSION IS IT USEFUL?\n",
    "<p>We turn to the defendant Iterators.</p>"
   ]
  },
  {
   "cell_type": "code",
   "execution_count": 19,
   "metadata": {},
   "outputs": [
    {
     "name": "stdout",
     "output_type": "stream",
     "text": [
      "20922789888000\n"
     ]
    }
   ],
   "source": [
    "def factorial(number):\n",
    "    product = 1\n",
    "    for i in range(1,number+1):\n",
    "        product *= i\n",
    "        \n",
    "    return product\n",
    "print(factorial(16))"
   ]
  },
  {
   "cell_type": "code",
   "execution_count": 15,
   "metadata": {},
   "outputs": [
    {
     "name": "stdout",
     "output_type": "stream",
     "text": [
      "20922789888000\n"
     ]
    }
   ],
   "source": [
    "def factRecursive(number):\n",
    "    #Base Case.\n",
    "    if number == 0:\n",
    "        return 1\n",
    "    else:\n",
    "      #Recursive Case  \n",
    "        return number * factRecursive(number-1)\n",
    "print(factRecursive(16))"
   ]
  },
  {
   "attachments": {},
   "cell_type": "markdown",
   "metadata": {},
   "source": [
    "Is this a discovery\n",
    "conjecture: every third item after 3! is divisible by 3.\n",
    "see if this conjecture exists then advise appropriately."
   ]
  },
  {
   "cell_type": "code",
   "execution_count": 1,
   "metadata": {},
   "outputs": [
    {
     "name": "stdout",
     "output_type": "stream",
     "text": [
      "a = 1, b=1\n",
      "a = 1, b=2\n",
      "a = 2, b=3\n",
      "a = 3, b=5\n",
      "a = 5, b=8\n",
      "a = 8, b=13\n",
      "a = 13, b=21\n",
      "a = 21, b=34\n",
      "a = 34, b=55\n",
      "a = 55, b=89\n"
     ]
    },
    {
     "data": {
      "text/plain": [
       "55"
      ]
     },
     "execution_count": 1,
     "metadata": {},
     "output_type": "execute_result"
    }
   ],
   "source": [
    "def fibonacii(nthNumber):\n",
    "    #base case\n",
    "    a,b = 1,1\n",
    "    print('a = %s, b=%s'%(a,b))\n",
    "    for i in range(1,nthNumber):\n",
    "        a, b = b, a+b\n",
    "        print('a = %s, b=%s'%(a,b))\n",
    "    return a\n",
    "\n",
    "fibonacii(10)"
   ]
  },
  {
   "attachments": {},
   "cell_type": "markdown",
   "metadata": {},
   "source": [
    "<script>\n",
    "    def fibonacii(nthNumber){        let a=1, b=1\n",
    "        let nextNum;\n",
    "        document.write('a='+a + ',b= '+ b + '<br>');\n",
    "\n",
    "        for(let iter= 1; i < nthNumber; i++){\n",
    "            nextNum = a + b;\n",
    "            a = b;\n",
    "            b = NextNum\n",
    "            document.write('a= '+a +',b= ',b+'<br>');\n",
    "        }\n",
    "        return a;};\n",
    "        document.write(fibonacii(10));\n",
    "</script>"
   ]
  },
  {
   "cell_type": "code",
   "execution_count": 7,
   "metadata": {},
   "outputs": [],
   "source": [
    "#THE RECURSIVE APROACH.\n",
    "def fibonacci(nthNumber):\n",
    "    # print(f'fibonacci {nthNumber} called.')\n",
    "    \n",
    "    #base case.\n",
    "    if nthNumber == 1 or nthNumber == 2:\n",
    "        # print(f'call to {nthNumber} returning 1')\n",
    "        return 1\n",
    "    \n",
    "    else:\n",
    "        #RECURSIVe CASSE.\n",
    "        result = fibonacci(nthNumber-1) + fibonacci(nthNumber-2)\n",
    "        return result"
   ]
  },
  {
   "cell_type": "code",
   "execution_count": 9,
   "metadata": {},
   "outputs": [
    {
     "data": {
      "text/plain": [
       "55"
      ]
     },
     "execution_count": 9,
     "metadata": {},
     "output_type": "execute_result"
    }
   ],
   "source": [
    "fibonacci(10)"
   ]
  }
 ],
 "metadata": {
  "kernelspec": {
   "display_name": "Python 3",
   "language": "python",
   "name": "python3"
  },
  "language_info": {
   "codemirror_mode": {
    "name": "ipython",
    "version": 3
   },
   "file_extension": ".py",
   "mimetype": "text/x-python",
   "name": "python",
   "nbconvert_exporter": "python",
   "pygments_lexer": "ipython3",
   "version": "3.11.0"
  },
  "orig_nbformat": 4,
  "vscode": {
   "interpreter": {
    "hash": "c261aea317cc0286b3b3261fbba9abdec21eaa57589985bb7a274bf54d6cc0a7"
   }
  }
 },
 "nbformat": 4,
 "nbformat_minor": 2
}
