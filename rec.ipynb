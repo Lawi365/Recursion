{
 "cells": [
  {
   "attachments": {},
   "cell_type": "markdown",
   "metadata": {},
   "source": [
    "24th January 2023<br>\n",
    "Learning Recursion<br>\n",
    "5am in the morning.<br>"
   ]
  },
  {
   "cell_type": "code",
   "execution_count": 1,
   "metadata": {},
   "outputs": [
    {
     "name": "stdout",
     "output_type": "stream",
     "text": [
      "a() was called.\n",
      "b() was called\n",
      "c() was called.\n",
      "c() is sreturing\n",
      "b() is returning\n",
      "a() is returning.\n"
     ]
    }
   ],
   "source": [
    "def a():\n",
    "    print('a() was called.')\n",
    "    b()\n",
    "    print('a() is returning.')\n",
    "    \n",
    "def b():\n",
    "    print('b() was called')\n",
    "    c()\n",
    "    print('b() is returning')\n",
    "    \n",
    "def c():\n",
    "    print('c() was called.')\n",
    "    print('c() is sreturing')\n",
    "\n",
    "a()"
   ]
  },
  {
   "cell_type": "code",
   "execution_count": 2,
   "metadata": {},
   "outputs": [
    {
     "name": "stdout",
     "output_type": "stream",
     "text": [
      "5 of diamonds\n",
      "5 of diamonds,3 of clubs\n",
      "5 of diamonds,3 of clubs,ace of hearts\n",
      "5 of diamonds,3 of clubs\n"
     ]
    }
   ],
   "source": [
    "cardStack = []\n",
    "cardStack.append('5 of diamonds')\n",
    "print(','.join(cardStack))\n",
    "\n",
    "cardStack.append('3 of clubs')\n",
    "print(','.join(cardStack))\n",
    "\n",
    "cardStack.append('ace of hearts')\n",
    "print(','.join(cardStack))\n",
    "\n",
    "cardStack.pop()\n",
    "print(','.join(cardStack))\n",
    "\n"
   ]
  },
  {
   "attachments": {},
   "cell_type": "markdown",
   "metadata": {},
   "source": [
    "<script>\n",
    "    function shortest()\n",
    "        shortest();\n",
    "       <h1>This is being called</h1>\n",
    "    shortest()\n",
    "</script>"
   ]
  },
  {
   "attachments": {},
   "cell_type": "markdown",
   "metadata": {},
   "source": [
    "Base Case vs Recursive Case\n",
    "<p>The future is here all functions are in the no recursive case.</p>"
   ]
  },
  {
   "cell_type": "code",
   "execution_count": 3,
   "metadata": {},
   "outputs": [
    {
     "name": "stdout",
     "output_type": "stream",
     "text": [
      "Calling shortestWithBaseCase(False):\n",
      "shortesWtihBaseCAse (False) is called: \n",
      "Returning from base case.\n",
      "\n",
      "Calling shortesWithBaseCase(True):\n",
      "shortesWtihBaseCAse (True) is called: \n",
      "shortesWtihBaseCAse (False) is called: \n",
      "Returning from base case.\n",
      "Returning from recursive case.\n"
     ]
    }
   ],
   "source": [
    "def shortesWithBaseCase(makeRecursiveCall):\n",
    "    print('shortesWtihBaseCAse (%s) is called: '%makeRecursiveCall)\n",
    "    if not makeRecursiveCall:\n",
    "        #BASe CAse\n",
    "        print('Returning from base case.')\n",
    "        return\n",
    "    else:\n",
    "        #Recursive Case.\n",
    "        shortesWithBaseCase(False)\n",
    "        print('Returning from recursive case.')\n",
    "        return\n",
    "\n",
    "print('Calling shortestWithBaseCase(False):')\n",
    "shortesWithBaseCase(False)\n",
    "print()\n",
    "print('Calling shortesWithBaseCase(True):')\n",
    "shortesWithBaseCase(True)"
   ]
  },
  {
   "attachments": {},
   "cell_type": "markdown",
   "metadata": {},
   "source": [
    "Code Before , Middle and After Recursive Call\n",
    "<p>This is the begining what if there is a need to call a code in the middle?</p>"
   ]
  },
  {
   "cell_type": "code",
   "execution_count": 5,
   "metadata": {},
   "outputs": [
    {
     "name": "stdout",
     "output_type": "stream",
     "text": [
      "3\n",
      "2\n",
      "1\n",
      "0\n",
      "Reached the base case.\n",
      "1 returning\n",
      "2 returning\n",
      "3 returning\n"
     ]
    }
   ],
   "source": [
    "def countDownAndUp(number):\n",
    "    print(number)\n",
    "    if number == 0:\n",
    "        #BASE CASE\n",
    "        print('Reached the base case.')\n",
    "        return\n",
    "    else:\n",
    "        #RECURSIVE CASE.\n",
    "        countDownAndUp(number - 1)\n",
    "        print(number, 'returning')\n",
    "        \n",
    "        return\n",
    "    \n",
    "countDownAndUp(3)"
   ]
  },
  {
   "attachments": {},
   "cell_type": "markdown",
   "metadata": {},
   "source": [
    "   RECURSION IS IT USEFUL?\n",
    "<p>We turn to the defendant Iterators.</p>"
   ]
  },
  {
   "cell_type": "code",
   "execution_count": 19,
   "metadata": {},
   "outputs": [
    {
     "name": "stdout",
     "output_type": "stream",
     "text": [
      "20922789888000\n"
     ]
    }
   ],
   "source": [
    "def factorial(number):\n",
    "    product = 1\n",
    "    for i in range(1,number+1):\n",
    "        product *= i\n",
    "        \n",
    "    return product\n",
    "print(factorial(16))"
   ]
  },
  {
   "cell_type": "code",
   "execution_count": 15,
   "metadata": {},
   "outputs": [
    {
     "name": "stdout",
     "output_type": "stream",
     "text": [
      "20922789888000\n"
     ]
    }
   ],
   "source": [
    "def factRecursive(number):\n",
    "    #Base Case.\n",
    "    if number == 0:\n",
    "        return 1\n",
    "    else:\n",
    "      #Recursive Case  \n",
    "        return number * factRecursive(number-1)\n",
    "print(factRecursive(16))"
   ]
  },
  {
   "attachments": {},
   "cell_type": "markdown",
   "metadata": {},
   "source": [
    "Is this a discovery\n",
    "conjecture: every third item after 3! is divisible by 3.\n",
    "see if this conjecture exists then advise appropriately."
   ]
  },
  {
   "attachments": {},
   "cell_type": "markdown",
   "metadata": {},
   "source": [
    "24th January 2023.<br>\n",
    "Second Day Learning Recursive Algorithms<br>\n",
    "Using Python and Js<br>"
   ]
  },
  {
   "cell_type": "code",
   "execution_count": 14,
   "metadata": {},
   "outputs": [
    {
     "name": "stdout",
     "output_type": "stream",
     "text": [
      "a = 1, b=1\n",
      "a = 1, b=2\n",
      "a = 2, b=3\n",
      "a = 3, b=5\n",
      "a = 5, b=8\n",
      "a = 8, b=13\n",
      "a = 13, b=21\n",
      "a = 21, b=34\n",
      "a = 34, b=55\n",
      "a = 55, b=89\n",
      "a = 89, b=144\n",
      "a = 144, b=233\n",
      "a = 233, b=377\n",
      "a = 377, b=610\n",
      "a = 610, b=987\n",
      "a = 987, b=1597\n",
      "a = 1597, b=2584\n",
      "a = 2584, b=4181\n",
      "a = 4181, b=6765\n",
      "a = 6765, b=10946\n",
      "a = 10946, b=17711\n",
      "a = 17711, b=28657\n",
      "a = 28657, b=46368\n",
      "a = 46368, b=75025\n",
      "a = 75025, b=121393\n",
      "a = 121393, b=196418\n",
      "a = 196418, b=317811\n",
      "a = 317811, b=514229\n",
      "a = 514229, b=832040\n",
      "a = 832040, b=1346269\n",
      "a = 1346269, b=2178309\n",
      "a = 2178309, b=3524578\n",
      "a = 3524578, b=5702887\n",
      "a = 5702887, b=9227465\n",
      "a = 9227465, b=14930352\n",
      "a = 14930352, b=24157817\n",
      "a = 24157817, b=39088169\n",
      "a = 39088169, b=63245986\n",
      "a = 63245986, b=102334155\n",
      "a = 102334155, b=165580141\n",
      "a = 165580141, b=267914296\n",
      "a = 267914296, b=433494437\n",
      "a = 433494437, b=701408733\n",
      "a = 701408733, b=1134903170\n",
      "a = 1134903170, b=1836311903\n",
      "a = 1836311903, b=2971215073\n",
      "a = 2971215073, b=4807526976\n",
      "a = 4807526976, b=7778742049\n",
      "a = 7778742049, b=12586269025\n",
      "a = 12586269025, b=20365011074\n",
      "a = 20365011074, b=32951280099\n",
      "a = 32951280099, b=53316291173\n",
      "a = 53316291173, b=86267571272\n",
      "a = 86267571272, b=139583862445\n",
      "a = 139583862445, b=225851433717\n",
      "a = 225851433717, b=365435296162\n",
      "a = 365435296162, b=591286729879\n",
      "a = 591286729879, b=956722026041\n",
      "a = 956722026041, b=1548008755920\n",
      "a = 1548008755920, b=2504730781961\n",
      "a = 2504730781961, b=4052739537881\n",
      "a = 4052739537881, b=6557470319842\n",
      "a = 6557470319842, b=10610209857723\n",
      "a = 10610209857723, b=17167680177565\n",
      "a = 17167680177565, b=27777890035288\n",
      "a = 27777890035288, b=44945570212853\n",
      "a = 44945570212853, b=72723460248141\n",
      "a = 72723460248141, b=117669030460994\n",
      "a = 117669030460994, b=190392490709135\n",
      "a = 190392490709135, b=308061521170129\n",
      "a = 308061521170129, b=498454011879264\n",
      "a = 498454011879264, b=806515533049393\n",
      "a = 806515533049393, b=1304969544928657\n",
      "a = 1304969544928657, b=2111485077978050\n",
      "a = 2111485077978050, b=3416454622906707\n",
      "a = 3416454622906707, b=5527939700884757\n",
      "a = 5527939700884757, b=8944394323791464\n",
      "a = 8944394323791464, b=14472334024676221\n",
      "a = 14472334024676221, b=23416728348467685\n",
      "a = 23416728348467685, b=37889062373143906\n",
      "a = 37889062373143906, b=61305790721611591\n",
      "a = 61305790721611591, b=99194853094755497\n",
      "a = 99194853094755497, b=160500643816367088\n",
      "a = 160500643816367088, b=259695496911122585\n",
      "a = 259695496911122585, b=420196140727489673\n",
      "a = 420196140727489673, b=679891637638612258\n",
      "a = 679891637638612258, b=1100087778366101931\n",
      "a = 1100087778366101931, b=1779979416004714189\n",
      "a = 1779979416004714189, b=2880067194370816120\n",
      "a = 2880067194370816120, b=4660046610375530309\n",
      "a = 4660046610375530309, b=7540113804746346429\n",
      "a = 7540113804746346429, b=12200160415121876738\n",
      "a = 12200160415121876738, b=19740274219868223167\n",
      "a = 19740274219868223167, b=31940434634990099905\n",
      "a = 31940434634990099905, b=51680708854858323072\n",
      "a = 51680708854858323072, b=83621143489848422977\n",
      "a = 83621143489848422977, b=135301852344706746049\n",
      "a = 135301852344706746049, b=218922995834555169026\n",
      "a = 218922995834555169026, b=354224848179261915075\n",
      "a = 354224848179261915075, b=573147844013817084101\n",
      "a = 573147844013817084101, b=927372692193078999176\n",
      "573147844013817084101\n"
     ]
    }
   ],
   "source": [
    "def fibonacii(nthNumber):\n",
    "    #base case\n",
    "    a,b = 1,1\n",
    "    print('a = %s, b=%s'%(a,b))\n",
    "    for i in range(1,nthNumber):\n",
    "        a, b = b, a+b\n",
    "        print('a = %s, b=%s'%(a,b))\n",
    "    return a\n",
    "\n",
    "print(fibonacii(101))"
   ]
  },
  {
   "attachments": {},
   "cell_type": "markdown",
   "metadata": {},
   "source": [
    "<script>\n",
    "    def fibonacii(nthNumber){        let a=1, b=1\n",
    "        let nextNum;\n",
    "        document.write('a='+a + ',b= '+ b + '<br>');\n",
    "\n",
    "        for(let iter= 1; i < nthNumber; i++){\n",
    "            nextNum = a + b;\n",
    "            a = b;\n",
    "            b = NextNum\n",
    "            document.write('a= '+a +',b= ',b+'<br>');\n",
    "        }\n",
    "        return a;};\n",
    "        document.write(fibonacii(10));\n",
    "</script>"
   ]
  },
  {
   "cell_type": "code",
   "execution_count": 15,
   "metadata": {},
   "outputs": [],
   "source": [
    "#THE RECURSIVE APROACH.\n",
    "def fibonacci(nthNumber):\n",
    "    # print(f'fibonacci {nthNumber} called.')\n",
    "    \n",
    "    #base case.\n",
    "    if nthNumber == 1 or nthNumber == 2:\n",
    "        # print(f'call to {nthNumber} returning 1')\n",
    "        return 1\n",
    "    \n",
    "    else:\n",
    "        #RECURSIVe CASSE.\n",
    "        result = fibonacci(nthNumber-1) + fibonacci(nthNumber-2)\n",
    "        return result"
   ]
  },
  {
   "cell_type": "code",
   "execution_count": 16,
   "metadata": {},
   "outputs": [
    {
     "ename": "KeyboardInterrupt",
     "evalue": "",
     "output_type": "error",
     "traceback": [
      "\u001b[1;31m---------------------------------------------------------------------------\u001b[0m",
      "\u001b[1;31mKeyboardInterrupt\u001b[0m                         Traceback (most recent call last)",
      "Cell \u001b[1;32mIn[16], line 1\u001b[0m\n\u001b[1;32m----> 1\u001b[0m fibonacci(\u001b[39m100\u001b[39;49m)\n",
      "Cell \u001b[1;32mIn[15], line 12\u001b[0m, in \u001b[0;36mfibonacci\u001b[1;34m(nthNumber)\u001b[0m\n\u001b[0;32m      8\u001b[0m     \u001b[39mreturn\u001b[39;00m \u001b[39m1\u001b[39m\n\u001b[0;32m     10\u001b[0m \u001b[39melse\u001b[39;00m:\n\u001b[0;32m     11\u001b[0m     \u001b[39m#RECURSIVe CASSE.\u001b[39;00m\n\u001b[1;32m---> 12\u001b[0m     result \u001b[39m=\u001b[39m fibonacci(nthNumber\u001b[39m-\u001b[39;49m\u001b[39m1\u001b[39;49m) \u001b[39m+\u001b[39m fibonacci(nthNumber\u001b[39m-\u001b[39m\u001b[39m2\u001b[39m)\n\u001b[0;32m     13\u001b[0m     \u001b[39mreturn\u001b[39;00m result\n",
      "Cell \u001b[1;32mIn[15], line 12\u001b[0m, in \u001b[0;36mfibonacci\u001b[1;34m(nthNumber)\u001b[0m\n\u001b[0;32m      8\u001b[0m     \u001b[39mreturn\u001b[39;00m \u001b[39m1\u001b[39m\n\u001b[0;32m     10\u001b[0m \u001b[39melse\u001b[39;00m:\n\u001b[0;32m     11\u001b[0m     \u001b[39m#RECURSIVe CASSE.\u001b[39;00m\n\u001b[1;32m---> 12\u001b[0m     result \u001b[39m=\u001b[39m fibonacci(nthNumber\u001b[39m-\u001b[39;49m\u001b[39m1\u001b[39;49m) \u001b[39m+\u001b[39m fibonacci(nthNumber\u001b[39m-\u001b[39m\u001b[39m2\u001b[39m)\n\u001b[0;32m     13\u001b[0m     \u001b[39mreturn\u001b[39;00m result\n",
      "    \u001b[1;31m[... skipping similar frames: fibonacci at line 12 (85 times)]\u001b[0m\n",
      "Cell \u001b[1;32mIn[15], line 12\u001b[0m, in \u001b[0;36mfibonacci\u001b[1;34m(nthNumber)\u001b[0m\n\u001b[0;32m      8\u001b[0m     \u001b[39mreturn\u001b[39;00m \u001b[39m1\u001b[39m\n\u001b[0;32m     10\u001b[0m \u001b[39melse\u001b[39;00m:\n\u001b[0;32m     11\u001b[0m     \u001b[39m#RECURSIVe CASSE.\u001b[39;00m\n\u001b[1;32m---> 12\u001b[0m     result \u001b[39m=\u001b[39m fibonacci(nthNumber\u001b[39m-\u001b[39m\u001b[39m1\u001b[39m) \u001b[39m+\u001b[39m fibonacci(nthNumber\u001b[39m-\u001b[39;49m\u001b[39m2\u001b[39;49m)\n\u001b[0;32m     13\u001b[0m     \u001b[39mreturn\u001b[39;00m result\n",
      "Cell \u001b[1;32mIn[15], line 2\u001b[0m, in \u001b[0;36mfibonacci\u001b[1;34m(nthNumber)\u001b[0m\n\u001b[0;32m      1\u001b[0m \u001b[39m#THE RECURSIVE APROACH.\u001b[39;00m\n\u001b[1;32m----> 2\u001b[0m \u001b[39mdef\u001b[39;00m \u001b[39mfibonacci\u001b[39m(nthNumber):\n\u001b[0;32m      3\u001b[0m     \u001b[39m# print(f'fibonacci {nthNumber} called.')\u001b[39;00m\n\u001b[0;32m      4\u001b[0m     \n\u001b[0;32m      5\u001b[0m     \u001b[39m#base case.\u001b[39;00m\n\u001b[0;32m      6\u001b[0m     \u001b[39mif\u001b[39;00m nthNumber \u001b[39m==\u001b[39m \u001b[39m1\u001b[39m \u001b[39mor\u001b[39;00m nthNumber \u001b[39m==\u001b[39m \u001b[39m2\u001b[39m:\n\u001b[0;32m      7\u001b[0m         \u001b[39m# print(f'call to {nthNumber} returning 1')\u001b[39;00m\n\u001b[0;32m      8\u001b[0m         \u001b[39mreturn\u001b[39;00m \u001b[39m1\u001b[39m\n",
      "\u001b[1;31mKeyboardInterrupt\u001b[0m: "
     ]
    }
   ],
   "source": [
    "fibonacci(100)"
   ]
  },
  {
   "attachments": {},
   "cell_type": "markdown",
   "metadata": {},
   "source": [
    "The fibonacci algorithm is flawed."
   ]
  },
  {
   "attachments": {},
   "cell_type": "markdown",
   "metadata": {},
   "source": [
    "CONVERTING A RECURSIVE ALGORITH INTO AN ITERATIVE ALGORITHM."
   ]
  },
  {
   "cell_type": "code",
   "execution_count": 1,
   "metadata": {},
   "outputs": [
    {
     "name": "stdout",
     "output_type": "stream",
     "text": [
      "9426890448883247745626185743057242473809693764078951663494238777294707070023223798882976159207729119823605850588608460429412647567360000000000000000000000\n"
     ]
    }
   ],
   "source": [
    "callStack = []\n",
    "callStack.append({'returnAddr':'start','number':98})\n",
    "returnValue = None\n",
    "\n",
    "while len(callStack) > 0:\n",
    "    #The body of factorial() fxn\n",
    "    number = callStack[-1]['number']\n",
    "    returnAddr = callStack[-1]['returnAddr']\n",
    "    \n",
    "    if returnAddr == 'start':\n",
    "        if number == 1:\n",
    "            #BASE CASE.\n",
    "            returnValue = 1\n",
    "            callStack.pop()\n",
    "            continue\n",
    "        else:\n",
    "            #RECURSIVE CASE.\n",
    "            callStack[-1]['returnAddr'] = 'after recursive call'\n",
    "            \n",
    "            #CALL THE RECURSIVE CASE.\n",
    "            callStack.append({'returnAddr':'start','number': number -1})\n",
    "            continue\n",
    "        \n",
    "    elif returnAddr == 'after recursive call':\n",
    "        returnValue = number * returnValue\n",
    "        callStack.pop()\n",
    "        continue\n",
    "    \n",
    "print(returnValue)"
   ]
  },
  {
   "attachments": {},
   "cell_type": "markdown",
   "metadata": {},
   "source": [
    "CONVERTING ITERATIVE ALGOL TO RECURSIVE ALGOL."
   ]
  },
  {
   "cell_type": "code",
   "execution_count": 4,
   "metadata": {},
   "outputs": [
    {
     "name": "stdout",
     "output_type": "stream",
     "text": [
      "code in a loop: \n",
      "0 Hello, world!\n",
      "1 Hello, world!\n",
      "2 Hello, world!\n",
      "3 Hello, world!\n",
      "4 Hello, world!\n",
      "=================\n",
      "Code in a function\n",
      "0 Hello, world\n",
      "1 Hello, world\n",
      "2 Hello, world\n",
      "3 Hello, world\n",
      "4 Hello, world\n"
     ]
    }
   ],
   "source": [
    "print('code in a loop: ')\n",
    "i = 0\n",
    "while i < 5:\n",
    "    print(i, 'Hello, world!')\n",
    "    i = i + 1\n",
    "    \n",
    "    \n",
    "print(\"=================\")   \n",
    "print('Code in a function')\n",
    "\n",
    "def helo(i=0):\n",
    "    print(i, 'Hello, world')\n",
    "    i += 1\n",
    "    if i < 5:\n",
    "        #REC CASE\n",
    "        helo(i)\n",
    "        \n",
    "    else:\n",
    "        return #BASE CASE.\n",
    "\n",
    "helo()"
   ]
  },
  {
   "attachments": {},
   "cell_type": "markdown",
   "metadata": {},
   "source": [
    "CASE STUDY: CALCULATING EXPONENTS.\n",
    "<p color='green'>gaining insights to programming problems.</p>"
   ]
  },
  {
   "cell_type": "code",
   "execution_count": 19,
   "metadata": {},
   "outputs": [
    {
     "data": {
      "text/plain": [
       "613106625780100000000000000000000"
      ]
     },
     "execution_count": 19,
     "metadata": {},
     "output_type": "execute_result"
    }
   ],
   "source": [
    "def xponentIter(a,b):\n",
    "    result = 1\n",
    "    for i in range(b):\n",
    "        result *= a\n",
    "    return result\n",
    "\n",
    "xponentIter(1900,10)"
   ]
  },
  {
   "cell_type": "code",
   "execution_count": 21,
   "metadata": {},
   "outputs": [
    {
     "name": "stdout",
     "output_type": "stream",
     "text": [
      "1077344388163451386122873829875220657063168718924653899939733932826770399031370089701415344896215866414066940697724084592837160118008614110441825963858926314334485558891062604243929801333659335766640220324342212577189668426218489570986789445880656710491942847471488042799137304765860432898522448891903879448842029915344613630280871893433724107525503088274594330612385885472275456845397458516388330329455439142908055497775674884089933434312676183770190563136132469750298885022140220799026237059232396764415471205593849998454888397121651410251356075849209837650242268456778154302381031893236735497288704671664435855128805152742791297211165823770825165260632276577913240158228096769908007997601341344275463740808545223902298736839953743291274674502844013944662439530578584341589580722018656225306159708229988978270487444469267282188361608672991856983230064011859196972729602116195450048592776919414004622400161913108997068764078914432304518455161899030025874873333031237660661462868205092409352467311224947455724651218864815144115167218829811129564843826773507153956107359743866485629357934569526170161116725533418787332706571252414961344486446839941192139814284383220098660974548266230661186774861645002629646830143077464661889321394571178639650931361694437967481130325938974918200190000000000000000000000000000000000000000000000000000000000000000000000000000000000000000000000000000000000000000000000000000000000000000000000000000000000000000000000000000000000000000000000000000000000000000000000000000000000000000000000000000000000000000000000000000000000000000000000000000000000000000000000000000000000000000000000000000000000000000000000000000000000000000000000000000000000000000000000000000000000000000000000000000000000000000000000000000000000000000000000000000000000000000000000000000000000000000000000000000000000000000000000000000000000000000000000000000000000000000000000000000000000000000000000000000000000000000000000000000000000000000000000000000000000000000000000000000000000000000000000000000000000000000000000000000000000000000000000000000000000000000000000000000000000000000000000000000000000000000000000000000000000000000000000000000000000000000000000000000000000000000000000000000000000000000000000000000000000000000000000000000000000000000000000000000000000000000000000000000000000000000000000000000000000000000000000000000000000000000000000000000000000000000000000000000000000000000000000000000000000000000000000000000000000000000000000000000000000000000000000000000000000000000000000000000000000000000000000000000000000000000000000000000000000000000000000000000000000000000000000000000000000000000000000000000000000000000000000000000000000000000000000000000000000000000000000000000000000000000000000000000000000000000000000000000000000000000000000000000000000000000000000000000000000000000000000000000000000000000000000000000000000000000000000000000000000000000000000000000000000000000000000000000000000000000000000000000000000000000000000000000000000000000000000000000000000000000000000000000000000000000000000000000000000000000000000000000000000000000000000000000000000000000000000000000000000000000000000000000000000000000000000000000000000000000000000000000000000000000000000000000000000000000000000000000000000000000000000000000000000000000000000000000000000\n"
     ]
    }
   ],
   "source": [
    "def xponetRecursion(a,n):\n",
    "    if n == 1:\n",
    "        #BASE CASE.\n",
    "        return a\n",
    "    elif n%2 == 0:\n",
    "        #RECURSIVE CASE 1(when n is even.)\n",
    "        result = xponetRecursion(a, n//2)\n",
    "        return result * result\n",
    "    elif n%2 == 1:\n",
    "        #RECURSIVE CASE 2(when n is odd.)\n",
    "        result = xponetRecursion(a,n//2)\n",
    "        return result * result * a\n",
    "    \n",
    "print(xponetRecursion(1900,1001))"
   ]
  },
  {
   "cell_type": "code",
   "execution_count": 22,
   "metadata": {},
   "outputs": [
    {
     "name": "stdout",
     "output_type": "stream",
     "text": [
      "1077344388163451386122873829875220657063168718924653899939733932826770399031370089701415344896215866414066940697724084592837160118008614110441825963858926314334485558891062604243929801333659335766640220324342212577189668426218489570986789445880656710491942847471488042799137304765860432898522448891903879448842029915344613630280871893433724107525503088274594330612385885472275456845397458516388330329455439142908055497775674884089933434312676183770190563136132469750298885022140220799026237059232396764415471205593849998454888397121651410251356075849209837650242268456778154302381031893236735497288704671664435855128805152742791297211165823770825165260632276577913240158228096769908007997601341344275463740808545223902298736839953743291274674502844013944662439530578584341589580722018656225306159708229988978270487444469267282188361608672991856983230064011859196972729602116195450048592776919414004622400161913108997068764078914432304518455161899030025874873333031237660661462868205092409352467311224947455724651218864815144115167218829811129564843826773507153956107359743866485629357934569526170161116725533418787332706571252414961344486446839941192139814284383220098660974548266230661186774861645002629646830143077464661889321394571178639650931361694437967481130325938974918200190000000000000000000000000000000000000000000000000000000000000000000000000000000000000000000000000000000000000000000000000000000000000000000000000000000000000000000000000000000000000000000000000000000000000000000000000000000000000000000000000000000000000000000000000000000000000000000000000000000000000000000000000000000000000000000000000000000000000000000000000000000000000000000000000000000000000000000000000000000000000000000000000000000000000000000000000000000000000000000000000000000000000000000000000000000000000000000000000000000000000000000000000000000000000000000000000000000000000000000000000000000000000000000000000000000000000000000000000000000000000000000000000000000000000000000000000000000000000000000000000000000000000000000000000000000000000000000000000000000000000000000000000000000000000000000000000000000000000000000000000000000000000000000000000000000000000000000000000000000000000000000000000000000000000000000000000000000000000000000000000000000000000000000000000000000000000000000000000000000000000000000000000000000000000000000000000000000000000000000000000000000000000000000000000000000000000000000000000000000000000000000000000000000000000000000000000000000000000000000000000000000000000000000000000000000000000000000000000000000000000000000000000000000000000000000000000000000000000000000000000000000000000000000000000000000000000000000000000000000000000000000000000000000000000000000000000000000000000000000000000000000000000000000000000000000000000000000000000000000000000000000000000000000000000000000000000000000000000000000000000000000000000000000000000000000000000000000000000000000000000000000000000000000000000000000000000000000000000000000000000000000000000000000000000000000000000000000000000000000000000000000000000000000000000000000000000000000000000000000000000000000000000000000000000000000000000000000000000000000000000000000000000000000000000000000000000000000000000000000000000000000000000000000000000000000000000000000000000000000000000000000000000000000000\n"
     ]
    }
   ],
   "source": [
    "print(1900**1001)"
   ]
  },
  {
   "attachments": {},
   "cell_type": "markdown",
   "metadata": {},
   "source": [
    "4.PRACTICE PROJECTS.\n"
   ]
  }
 ],
 "metadata": {
  "kernelspec": {
   "display_name": "Python 3",
   "language": "python",
   "name": "python3"
  },
  "language_info": {
   "codemirror_mode": {
    "name": "ipython",
    "version": 3
   },
   "file_extension": ".py",
   "mimetype": "text/x-python",
   "name": "python",
   "nbconvert_exporter": "python",
   "pygments_lexer": "ipython3",
   "version": "3.11.0"
  },
  "orig_nbformat": 4,
  "vscode": {
   "interpreter": {
    "hash": "c261aea317cc0286b3b3261fbba9abdec21eaa57589985bb7a274bf54d6cc0a7"
   }
  }
 },
 "nbformat": 4,
 "nbformat_minor": 2
}
