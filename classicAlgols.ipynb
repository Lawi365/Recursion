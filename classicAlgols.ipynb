{
 "cells": [
  {
   "attachments": {},
   "cell_type": "markdown",
   "metadata": {},
   "source": [
    "RECURSION ALGORITHMS.<br>\n",
    "<code>Date 26th January 2022</code><br>\n",
    "Author: <code><a href='www.github.com/Lawi365'>Lawi365</a></code>"
   ]
  },
  {
   "attachments": {},
   "cell_type": "markdown",
   "metadata": {},
   "source": [
    "<code>Summing numbers in an array</code>"
   ]
  },
  {
   "cell_type": "code",
   "execution_count": 14,
   "metadata": {},
   "outputs": [
    {
     "data": {
      "text/plain": [
       "'iamhappytoday'"
      ]
     },
     "execution_count": 14,
     "metadata": {},
     "output_type": "execute_result"
    }
   ],
   "source": [
    "def sum_array(arr):\n",
    "    sum = 0\n",
    "    for i in arr:\n",
    "        sum += i\n",
    "    return sum\n",
    "\n",
    "def sum_arrayRec(arr):\n",
    "    sum = ''\n",
    "    #Base Case. \n",
    "    if len(arr) == 0:\n",
    "        return ''\n",
    "    \n",
    "    sum = arr[0] + sum_arrayRec(arr[1:])\n",
    "    return sum\n",
    "sum_arrayRec([\"i\",\"am\",\"happy\",\"today\"])"
   ]
  },
  {
   "attachments": {},
   "cell_type": "markdown",
   "metadata": {},
   "source": [
    "<code>Reversing a String</code>"
   ]
  },
  {
   "cell_type": "code",
   "execution_count": 35,
   "metadata": {},
   "outputs": [
    {
     "data": {
      "text/plain": [
       "'nus gnisir eht fo weiv eht gniyojne ereh saw nhoj'"
      ]
     },
     "execution_count": 35,
     "metadata": {},
     "output_type": "execute_result"
    }
   ],
   "source": [
    "def reverse(strng):\n",
    "    new_string = ''\n",
    "    for i in range(1,len(strng)+1):\n",
    "        new_string += strng[-i]\n",
    "        \n",
    "    return new_string\n",
    "\n",
    "reverse(\"john is here\")\n",
    "\n",
    "def reverseRec(strng):\n",
    "    \n",
    "    #Base case.\n",
    "    if len(strng) == 0:\n",
    "        return ''\n",
    "    new_strng = ''\n",
    "    \n",
    "    new_strng += strng[-1] + reverseRec(strng[:-1])\n",
    "    return new_strng\n",
    "\n",
    "reverseRec(\"john was here enjoying the view of the rising sun\")\n",
    "    "
   ]
  },
  {
   "cell_type": "code",
   "execution_count": 36,
   "metadata": {},
   "outputs": [],
   "source": [
    "text = \"\"\"words, AT would reverse to TA, and then adding the head to the end of that \n",
    "would produce the reversed string, TAC.\n",
    "How can we reverse the tail? Well, we can recursively call rev() and pass \n",
    "it the tail. Forget about the implementation of our function for a moment \n",
    "and focus on its input and output: rev() takes one string argument and \n",
    "returns a string with the argument’s characters reversed. \n",
    "Thinking about how to implement a recursive function like rev() can \n",
    "be difficult because it involves a chicken-and-egg problem. In order to write \n",
    "rev()’s recursive case, we need to call a function that reverses a string—that \n",
    "is, rev(). As long as we have a solid understanding of what our recursive \n",
    "function’s arguments and return value will be, we can use the leap-of-faith\n",
    "technique to get around this chicken-and-egg problem by writing our recur\u0002sive case assuming the rev() function call returns the correct value even \n",
    "though we haven’t finished writing it yet.\n",
    "Taking a leap of faith in recursion is not a magical technique that guar\u0002antees your code works bug free. It is merely a perspective to hold to break \n",
    "past the mental programmer’s block you can have when thinking about how \n",
    "to implement your recursive function. The leap of faith requires you to have \n",
    "a firm understanding of your recursive function’s arguments and return \n",
    "value.\n",
    "Note that the leap-of-faith technique only helps you write the recursive \"\"\""
   ]
  },
  {
   "cell_type": "code",
   "execution_count": 37,
   "metadata": {},
   "outputs": [
    {
     "data": {
      "text/plain": [
       "' evisrucer eht etirw uoy spleh ylno euqinhcet htiaf-fo-pael eht taht etoN\\n.eulav\\n nruter dna stnemugra s’noitcnuf evisrucer ruoy fo gnidnatsrednu mrif a\\n evah ot uoy seriuqer htiaf fo pael ehT .noitcnuf evisrucer ruoy tnemelpmi ot\\n woh tuoba gnikniht nehw evah nac uoy kcolb s’remmargorp latnem eht tsap\\n kaerb ot dloh ot evitcepsrep a ylerem si tI .eerf gub skrow edoc ruoy seetna\\x02raug taht euqinhcet lacigam a ton si noisrucer ni htiaf fo pael a gnikaT\\n.tey ti gnitirw dehsinif t’nevah ew hguoht\\n neve eulav tcerroc eht snruter llac noitcnuf )(ver eht gnimussa esac evis\\x02rucer ruo gnitirw yb melborp gge-dna-nekcihc siht dnuora teg ot euqinhcet\\nhtiaf-fo-pael eht esu nac ew ,eb lliw eulav nruter dna stnemugra s’noitcnuf\\n evisrucer ruo tahw fo gnidnatsrednu dilos a evah ew sa gnol sA .)(ver ,si\\n taht—gnirts a sesrever taht noitcnuf a llac ot deen ew ,esac evisrucer s’)(ver\\n etirw ot redro nI .melborp gge-dna-nekcihc a sevlovni ti esuaceb tluciffid eb\\n nac )(ver ekil noitcnuf evisrucer a tnemelpmi ot woh tuoba gniknihT\\n .desrever sretcarahc s’tnemugra eht htiw gnirts a snruter\\n dna tnemugra gnirts eno sekat )(ver :tuptuo dna tupni sti no sucof dna\\n tnemom a rof noitcnuf ruo fo noitatnemelpmi eht tuoba tegroF .liat eht ti\\n ssap dna )(ver llac ylevisrucer nac ew ,lleW ?liat eht esrever ew nac woH\\n.CAT ,gnirts desrever eht ecudorp dluow\\n taht fo dne eht ot daeh eht gnidda neht dna ,AT ot esrever dluow TA ,sdrow'"
      ]
     },
     "execution_count": 37,
     "metadata": {},
     "output_type": "execute_result"
    }
   ],
   "source": [
    "reverseRec(text)"
   ]
  },
  {
   "attachments": {},
   "cell_type": "markdown",
   "metadata": {},
   "source": [
    "<code>Detecting Palindromes</code>\n",
    "<p>\n",
    "A palindrome is a word or phrase that is spelled the same when written forward and backward.eg Level\n",
    "</p>"
   ]
  },
  {
   "cell_type": "code",
   "execution_count": 43,
   "metadata": {},
   "outputs": [
    {
     "data": {
      "text/plain": [
       "True"
      ]
     },
     "execution_count": 43,
     "metadata": {},
     "output_type": "execute_result"
    }
   ],
   "source": [
    "def isPalindrome(aString):\n",
    "    #Base Case.\n",
    "    if len(aString)==0:\n",
    "        return True\n",
    "    \n",
    "    #RECursive Case.\n",
    "    return aString[0] == aString[-1] and isPalindrome(aString[1:-1])\n",
    "\n",
    "isPalindrome('racecar')"
   ]
  },
  {
   "attachments": {},
   "cell_type": "markdown",
   "metadata": {},
   "source": [
    "The above code in the previous cell is very clever. Never would have thought about it that way ...very good 100%"
   ]
  },
  {
   "attachments": {},
   "cell_type": "markdown",
   "metadata": {},
   "source": [
    "<code>Tower of Hanoi</code>"
   ]
  },
  {
   "cell_type": "code",
   "execution_count": 47,
   "metadata": {},
   "outputs": [
    {
     "ename": "TypeError",
     "evalue": "solve() got multiple values for argument 'n_of_disks'",
     "output_type": "error",
     "traceback": [
      "\u001b[1;31m---------------------------------------------------------------------------\u001b[0m",
      "\u001b[1;31mTypeError\u001b[0m                                 Traceback (most recent call last)",
      "Cell \u001b[1;32mIn[47], line 32\u001b[0m\n\u001b[0;32m     28\u001b[0m     solve(temp_tower,nd_tower,start_tower,n_of_disks \u001b[39m=\u001b[39m\u001b[39m1\u001b[39m )\n\u001b[0;32m     30\u001b[0m     \u001b[39mreturn\u001b[39;00m\n\u001b[1;32m---> 32\u001b[0m solve(\u001b[39m'\u001b[39;49m\u001b[39mA\u001b[39;49m\u001b[39m'\u001b[39;49m,\u001b[39m'\u001b[39;49m\u001b[39mB\u001b[39;49m\u001b[39m'\u001b[39;49m,\u001b[39m'\u001b[39;49m\u001b[39mC\u001b[39;49m\u001b[39m'\u001b[39;49m,TOTAL_DISCS)\n",
      "Cell \u001b[1;32mIn[47], line 26\u001b[0m, in \u001b[0;36msolve\u001b[1;34m(n_of_disks, start_tower, nd_tower, temp_tower)\u001b[0m\n\u001b[0;32m     23\u001b[0m     \u001b[39mreturn\u001b[39;00m \n\u001b[0;32m     25\u001b[0m \u001b[39m#REcursive Case.\u001b[39;00m\n\u001b[1;32m---> 26\u001b[0m solve(start_tower,temp_tower,nd_tower,n_of_disks \u001b[39m=\u001b[39;49m\u001b[39m1\u001b[39;49m )\n\u001b[0;32m     27\u001b[0m move_on_disk(start_tower, nd_tower)\n\u001b[0;32m     28\u001b[0m solve(temp_tower,nd_tower,start_tower,n_of_disks \u001b[39m=\u001b[39m\u001b[39m1\u001b[39m )\n",
      "\u001b[1;31mTypeError\u001b[0m: solve() got multiple values for argument 'n_of_disks'"
     ]
    }
   ],
   "source": [
    "import sys\n",
    "\n",
    "#init a,b,c .\n",
    "TOTAL_DISCS = 6\n",
    "\n",
    "#POPULATE TOWER A.\n",
    "TOWERS = {\n",
    "    'A': list(reversed(range(1,TOTAL_DISCS+1))),\n",
    "    'B': [],\n",
    "    'C': []\n",
    "}\n",
    "\n",
    "def move_on_disk(start_tower, nd_tower):\n",
    "    #move the top disk from startTower to endTower\n",
    "    disk = TOWERS[start_tower].pop()\n",
    "    TOWERS[nd_tower].append(disk)\n",
    "    \n",
    "def solve(n_of_disks, start_tower,nd_tower, temp_tower):\n",
    "    # Move the top disk from start tower to end tower.\n",
    "    if n_of_disks == 1:\n",
    "        #BAseCase\n",
    "        move_on_disk(start_tower,nd_tower)\n",
    "        return \n",
    "    \n",
    "    #REcursive Case.\n",
    "    solve(start_tower,temp_tower,nd_tower,n_of_disks =1 )\n",
    "    move_on_disk(start_tower, nd_tower)\n",
    "    solve(temp_tower,nd_tower,start_tower,n_of_disks =1 )\n",
    "    \n",
    "    return\n",
    "\n",
    "solve('A','B','C',TOTAL_DISCS)\n",
    "\n",
    "\n"
   ]
  },
  {
   "attachments": {},
   "cell_type": "markdown",
   "metadata": {},
   "source": [
    "That Marks the End of This section<br>\n",
    "<code>Code Written by <a href='https://github.com/Lawi365'>Lawi365</a> under Book Guidance on Recursion</code>"
   ]
  }
 ],
 "metadata": {
  "kernelspec": {
   "display_name": "Python 3",
   "language": "python",
   "name": "python3"
  },
  "language_info": {
   "codemirror_mode": {
    "name": "ipython",
    "version": 3
   },
   "file_extension": ".py",
   "mimetype": "text/x-python",
   "name": "python",
   "nbconvert_exporter": "python",
   "pygments_lexer": "ipython3",
   "version": "3.11.0"
  },
  "orig_nbformat": 4,
  "vscode": {
   "interpreter": {
    "hash": "c261aea317cc0286b3b3261fbba9abdec21eaa57589985bb7a274bf54d6cc0a7"
   }
  }
 },
 "nbformat": 4,
 "nbformat_minor": 2
}
