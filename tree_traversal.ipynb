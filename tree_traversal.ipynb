{
 "cells": [
  {
   "cell_type": "code",
   "execution_count": 4,
   "metadata": {},
   "outputs": [],
   "source": [
    "root = {'name': 'Alice', 'children': [{'name': 'Bobcolim', 'children':\n",
    "                                      [{'name': 'Darya', 'children': []}]}, {'name': 'Caroline',\n",
    "                                                                             'children': [{'name': 'Eve', 'children': [{'name': 'Gonzalo',\n",
    "                                                                                                                        'children': []}, {'name': 'Hadassah', 'children': []}]}, {'name': 'Fred',\n",
    "                                                                                                                                                                                  'children': []}]}]}\n"
   ]
  },
  {
   "cell_type": "code",
   "execution_count": 5,
   "metadata": {},
   "outputs": [
    {
     "name": "stdout",
     "output_type": "stream",
     "text": [
      "Visiting nodeAlice...\n",
      "Checking if Alice is 8 letters....\n",
      "Visiting nodeBobcolim...\n",
      "Checking if Bobcolim is 8 letters....\n"
     ]
    },
    {
     "data": {
      "text/plain": [
       "'Bobcolim'"
      ]
     },
     "execution_count": 5,
     "metadata": {},
     "output_type": "execute_result"
    }
   ],
   "source": [
    "def find8LetterName(node):\n",
    "    print('Visiting node'+node['name']+'...')\n",
    "    \n",
    "    #preorder depth-first search:\n",
    "    print(\"Checking if \"+ node['name']+' is 8 letters....')\n",
    "    \n",
    "    if len(node['name'])== 8:\n",
    "        #Base Case\n",
    "        return node['name']\n",
    "    \n",
    "    #Recursive Case.\n",
    "    if len(node['children']) > 0:\n",
    "        for child in node['children']:\n",
    "            returnValue = find8LetterName(child)\n",
    "            \n",
    "            if returnValue != None:\n",
    "                return returnValue\n",
    "            \n",
    "    #   POST ORDER DEPTH FIRST SEARCH.\n",
    "    # to be implemented after a certain time.\n",
    "    \n",
    "    \n",
    "    \n",
    "find8LetterName(root)\n",
    "    "
   ]
  }
 ],
 "metadata": {
  "kernelspec": {
   "display_name": "Python 3",
   "language": "python",
   "name": "python3"
  },
  "language_info": {
   "codemirror_mode": {
    "name": "ipython",
    "version": 3
   },
   "file_extension": ".py",
   "mimetype": "text/x-python",
   "name": "python",
   "nbconvert_exporter": "python",
   "pygments_lexer": "ipython3",
   "version": "3.11.0"
  },
  "orig_nbformat": 4,
  "vscode": {
   "interpreter": {
    "hash": "c261aea317cc0286b3b3261fbba9abdec21eaa57589985bb7a274bf54d6cc0a7"
   }
  }
 },
 "nbformat": 4,
 "nbformat_minor": 2
}
