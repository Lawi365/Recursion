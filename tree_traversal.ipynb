{
 "cells": [
  {
   "cell_type": "code",
   "execution_count": 4,
   "metadata": {},
   "outputs": [],
   "source": [
    "root = {'name': 'Alice', 'children': [{'name': 'Bobcolim', 'children':\n",
    "                                      [{'name': 'Darya', 'children': []}]}, {'name': 'Caroline',\n",
    "                                                                             'children': [{'name': 'Eve', 'children': [{'name': 'Gonzalo',\n",
    "                                                                                                                        'children': []}, {'name': 'Hadassah', 'children': []}]}, {'name': 'Fred',\n",
    "                                                                                                                                                                                  'children': []}]}]}\n"
   ]
  },
  {
   "cell_type": "code",
   "execution_count": 5,
   "metadata": {},
   "outputs": [
    {
     "name": "stdout",
     "output_type": "stream",
     "text": [
      "Visiting nodeAlice...\n",
      "Checking if Alice is 8 letters....\n",
      "Visiting nodeBobcolim...\n",
      "Checking if Bobcolim is 8 letters....\n"
     ]
    },
    {
     "data": {
      "text/plain": [
       "'Bobcolim'"
      ]
     },
     "execution_count": 5,
     "metadata": {},
     "output_type": "execute_result"
    }
   ],
   "source": [
    "def find8LetterName(node):\n",
    "    print('Visiting node'+node['name']+'...')\n",
    "\n",
    "    # preorder depth-first search:\n",
    "    print(\"Checking if \" + node['name']+' is 8 letters....')\n",
    "\n",
    "    if len(node['name']) == 8:\n",
    "        # Base Case\n",
    "        return node['name']\n",
    "\n",
    "    # Recursive Case.\n",
    "    if len(node['children']) > 0:\n",
    "        for child in node['children']:\n",
    "            returnValue = find8LetterName(child)\n",
    "\n",
    "            if returnValue != None:\n",
    "                return returnValue\n",
    "\n",
    "    #   POST ORDER DEPTH FIRST SEARCH.\n",
    "    # to be implemented after a certain time.\n",
    "\n",
    "\n",
    "find8LetterName(root)\n"
   ]
  },
  {
   "cell_type": "code",
   "execution_count": 2,
   "metadata": {},
   "outputs": [],
   "source": [
    "# PYTHON FUNCTOOLS MODULE FOR MEMOIZATION.\n",
    "\n",
    "import functools\n",
    "\n",
    "\n",
    "@functools.lru_cache\n",
    "def fibonacci(nthnumber):\n",
    "    # print(f'fibonacci({nthnumber}) called.')\n",
    "    if nthnumber in [1, 2]:\n",
    "        return 1\n",
    "    # print(f'calling fibonacci {(nthnumber - 1)}.')\n",
    "    result = fibonacci(nthnumber - 1)\n",
    "\n",
    "    # print(f'calling fibonacci {(nthnumber -1)}.')\n",
    "    result = result + fibonacci(nthnumber - 2)\n",
    "\n",
    "    # print(f'Call to fibonacci {nthnumber} returning {result}')\n",
    "\n",
    "    return result\n"
   ]
  },
  {
   "cell_type": "code",
   "execution_count": 3,
   "metadata": {},
   "outputs": [
    {
     "name": "stdout",
     "output_type": "stream",
     "text": [
      "571829406815633979529643697006273045106845980748991112071673038743714031497887739023091610769764627307772654802298784361803421747114571265690519449915873452164193174293407940201977897716937097604164288130909\n"
     ]
    }
   ],
   "source": [
    "print(fibonacci(991))"
   ]
  },
  {
   "attachments": {},
   "cell_type": "markdown",
   "metadata": {},
   "source": [
    "WARNING ON NOT MEMOIZING IMPURE FUNCTIONS"
   ]
  },
  {
   "cell_type": "code",
   "execution_count": 5,
   "metadata": {},
   "outputs": [
    {
     "name": "stdout",
     "output_type": "stream",
     "text": [
      "Getting the current time twice: \n",
      "2023-02-02 03:29:43.298276\n",
      "Waiting two seconds\n",
      "2023-02-02 03:29:43.298276\n",
      "\n",
      "Displaying a message twice: \n",
      "Hello, world!\n"
     ]
    }
   ],
   "source": [
    "import functools\n",
    "import time\n",
    "import datetime\n",
    "\n",
    "\n",
    "@functools.lru_cache\n",
    "def getCurrentTime():\n",
    "    # This nondeterministic function returns different values each time\n",
    "    # its called\n",
    "    return datetime.datetime.now()\n",
    "\n",
    "\n",
    "@functools.lru_cache\n",
    "def printMessage():\n",
    "    # This fxn displays a message on screen as a side effect.\n",
    "    print('Hello, world!')\n",
    "\n",
    "\n",
    "print('Getting the current time twice: ')\n",
    "print(getCurrentTime())\n",
    "\n",
    "print('Waiting two seconds')\n",
    "time.sleep(2)\n",
    "print(getCurrentTime())\n",
    "print()\n",
    "\n",
    "print('Displaying a message twice: ')\n",
    "printMessage()\n",
    "printMessage()\n"
   ]
  }
 ],
 "metadata": {
  "kernelspec": {
   "display_name": "Python 3",
   "language": "python",
   "name": "python3"
  },
  "language_info": {
   "codemirror_mode": {
    "name": "ipython",
    "version": 3
   },
   "file_extension": ".py",
   "mimetype": "text/x-python",
   "name": "python",
   "nbconvert_exporter": "python",
   "pygments_lexer": "ipython3",
   "version": "3.11.0"
  },
  "orig_nbformat": 4,
  "vscode": {
   "interpreter": {
    "hash": "c261aea317cc0286b3b3261fbba9abdec21eaa57589985bb7a274bf54d6cc0a7"
   }
  }
 },
 "nbformat": 4,
 "nbformat_minor": 2
}
