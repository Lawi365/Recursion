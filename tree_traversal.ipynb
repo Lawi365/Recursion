{
 "cells": [
  {
   "cell_type": "code",
   "execution_count": null,
   "metadata": {},
   "outputs": [],
   "source": [
    "root = {\n",
    "    'name': 'Alice', 'children': [{\n",
    "        'name': 'Bob',\n",
    "        'children': [{'name': 'Darya', 'children': []}]\n",
    "    }]\n",
    "}\n"
   ]
  }
 ],
 "metadata": {
  "language_info": {
   "name": "python"
  },
  "orig_nbformat": 4
 },
 "nbformat": 4,
 "nbformat_minor": 2
}
